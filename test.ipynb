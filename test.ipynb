{
 "cells": [
  {
   "cell_type": "code",
   "execution_count": 4,
   "metadata": {},
   "outputs": [],
   "source": [
    "import pymysql,json,datetime\n",
    "import yaml\n",
    "from pathlib import Path\n",
    "from flask import Flask, url_for,render_template, request,session, redirect,send_from_directory,make_response \n",
    "from flask_session import Session\n",
    "from datetime import timedelta\n",
    "from user_ckn import user,baseObject\n",
    "import time,json,requests,pymysql\n",
    "import datetime\n",
    "df = yaml.safe_load(Path('config.yml').read_text())\n",
    "df\n",
    "from flask import Flask, url_for,render_template, request,session, redirect,send_from_directory,make_response \n",
    "from flask_session import Session\n",
    "from datetime import timedelta\n",
    "from user_ckn import user,baseObject\n",
    "import time,json,requests,pymysql\n",
    "import datetime\n",
    "from user_ckn import user,baseObject\n",
    "import pymysql\n",
    "import yfinance as yf\n",
    "import plotly.graph_objects as go\n",
    "from flask import Flask, render_template"
   ]
  },
  {
   "cell_type": "markdown",
   "metadata": {},
   "source": [
    "### Login Check"
   ]
  },
  {
   "cell_type": "code",
   "execution_count": null,
   "metadata": {},
   "outputs": [],
   "source": [
    "def login_check(det):\n",
    "    error = []\n",
    "    conn = pymysql.connect(host='mysql.clarksonmsda.org', port=3306, user='gonuguc',\n",
    "                           passwd='Chandu@1604', db='gonuguc_CryptoKoiN', autocommit=True)\n",
    "    cur = conn.cursor(pymysql.cursors.DictCursor)\n",
    "\n",
    "    sql = \"SELECT * FROM `User_data` WHERE username = %s\"\n",
    "    cur.execute(sql, (det[0],))\n",
    "    data = cur.fetchall()\n",
    "\n",
    "    if len(data) == 0:\n",
    "        return [\"Incorrect Username\"]\n",
    "\n",
    "    if data[0][\"password_hash\"] != det[1]:\n",
    "        error.append(\"Wrong password\")\n",
    "        \n",
    "    if len(error) == 0:\n",
    "        i_data = [data[0][\"user_id\"]]\n",
    "        sql = \"INSERT INTO `User_Activity` (user_id) VALUES (%s)\"\n",
    "        cur.execute(sql, i_data)\n",
    "        return \"Successfully Logged In\"\n",
    "    else:\n",
    "        return error\n"
   ]
  },
  {
   "cell_type": "markdown",
   "metadata": {},
   "source": [
    "### Forgot password"
   ]
  },
  {
   "cell_type": "code",
   "execution_count": 17,
   "metadata": {},
   "outputs": [
    {
     "name": "stdout",
     "output_type": "stream",
     "text": [
      "2000-04-16\n",
      "<class 'datetime.date'>\n"
     ]
    },
    {
     "data": {
      "text/plain": [
       "'Password updated successfully'"
      ]
     },
     "execution_count": 17,
     "metadata": {},
     "output_type": "execute_result"
    }
   ],
   "source": [
    "def reset_password(det):\n",
    "    import pymysql\n",
    "    import datetime\n",
    "\n",
    "    data = []\n",
    "    error = []\n",
    "\n",
    "    conn = pymysql.connect(\n",
    "        host='mysql.clarksonmsda.org',\n",
    "        port=3306,\n",
    "        user='gonuguc',\n",
    "        passwd='Chandu@1604',\n",
    "        db='gonuguc_CryptoKoiN',\n",
    "        autocommit=True\n",
    "    )\n",
    "    cur = conn.cursor(pymysql.cursors.DictCursor)\n",
    "\n",
    "    # Fetch user data by username\n",
    "    sql = '''SELECT * \n",
    "             FROM `User_data` \n",
    "             WHERE username = %s'''\n",
    "    cur.execute(sql, (det[0],))\n",
    "    data = cur.fetchall()\n",
    "    print(data[0]['date_of_birth'])\n",
    "    print(type(data[0]['date_of_birth']))\n",
    "\n",
    "    if len(data) == 0:\n",
    "        return 'Incorrect Username'\n",
    "\n",
    "    # Perform validation checks\n",
    "    if data[0]['email'] != det[1]:\n",
    "        error.append('Incorrect Email')\n",
    "\n",
    "    if data[0]['date_of_birth'] != det[2]:\n",
    "        error.append('Incorrect DOB')\n",
    "\n",
    "    if det[3] != det[4]:\n",
    "        error.append('Password didn\\'t match')\n",
    "\n",
    "    if len(det[3]) < 8:\n",
    "        error.append('Password should contain a minimum of 8 characters')\n",
    "\n",
    "    # Return based on error validation\n",
    "    if len(error) == 0:\n",
    "        # Update password using a parameterized query\n",
    "        sql = '''UPDATE `User_data`\n",
    "                 SET password_hash = %s\n",
    "                 WHERE user_id = %s'''\n",
    "        cur.execute(sql, (det[3], data[0]['user_id']))\n",
    "        conn.commit()\n",
    "        return 'Password updated successfully'\n",
    "    else:\n",
    "        return error\n",
    "    \n",
    "    \n",
    "det = ['chandu','gonuguc@clarkson.edu',datetime.datetime.strptime('2000-04-16','%Y-%m-%d').date(),'chandu@16','chandu@16']\n",
    "reset_password(det)\n"
   ]
  },
  {
   "cell_type": "code",
   "execution_count": 9,
   "metadata": {},
   "outputs": [
    {
     "name": "stdout",
     "output_type": "stream",
     "text": [
      "1999-04-14\n"
     ]
    }
   ],
   "source": [
    "import datetime\n",
    "\n",
    "date_object = datetime.datetime.strptime('1999-04-14', '%Y-%m-%d')\n",
    "\n",
    "formatted_date = date_object.strftime('%Y-%m-%d')\n",
    "\n",
    "print(formatted_date)  # Output: 1999-04-14\n"
   ]
  },
  {
   "cell_type": "markdown",
   "metadata": {},
   "source": [
    "### Sign Up"
   ]
  },
  {
   "cell_type": "code",
   "execution_count": 113,
   "metadata": {},
   "outputs": [],
   "source": [
    "#username, email, dob, pwd, repwd\n",
    "def signup_check(det):\n",
    "    data = []\n",
    "    error = []\n",
    "    conn = pymysql.connect(host='mysql.clarksonmsda.org', port=3306, user='gonuguc',\n",
    "                        passwd='Chandu@1604', db='gonuguc_CryptoKoiN', autocommit=True)\n",
    "    cur = conn.cursor(pymysql.cursors.DictCursor)\n",
    "    \n",
    "    fname = det[0]\n",
    "    lname = det[1]\n",
    "    uname = det[2]\n",
    "    email = det[3]\n",
    "    dob = det[4]\n",
    "    pwd = det[5]\n",
    "    rt_pwd = det[6]\n",
    "    role = det[7]\n",
    "\n",
    "    sql = '''SELECT * \n",
    "            FROM `User_data` \n",
    "            WHERE username = %s OR email = %s'''\n",
    "    cur.execute(sql, (uname, email))\n",
    "\n",
    "    data = cur.fetchall()\n",
    "\n",
    "    if len(data) != 0:\n",
    "        if data[0]['username'] == uname:\n",
    "            return 'Username found, try another'\n",
    "        elif data[0]['email'] == email:\n",
    "            return 'Email found, sign up with another email or log in with this email'\n",
    "\n",
    "    if pwd != rt_pwd:\n",
    "        return 'Password doesn\\'t match'\n",
    "    \n",
    "    if len(pwd) < 8:\n",
    "        error.append('Password should contain a minimum of 8 characters')\n",
    "    \n",
    "    else:\n",
    "        i_data = [fname,lname,uname,email,pwd,role] \n",
    "        sql = '''INSERT INTO `User_data`(firstname,lastname,username, email, password_hash, role)\n",
    "        VALUES (%s,%s,%s,%s,%s,%s )'''\n",
    "        cur.execute(sql,i_data)\n",
    "        return 'successfully created a account'\n"
   ]
  },
  {
   "cell_type": "code",
   "execution_count": 3,
   "metadata": {},
   "outputs": [],
   "source": [
    "ckn = [{'asset_id': 22, 'quantity': 23.0, 'acquisition_date': '2024-11-28 17:11:09', 'user_id': 3, 'crypto_id': 21},\n",
    "{'asset_id': 30, 'quantity': 1.0, 'acquisition_date': '2024-11-28 17:11:09', 'user_id': 3, 'crypto_id': 8}]"
   ]
  },
  {
   "cell_type": "code",
   "execution_count": null,
   "metadata": {},
   "outputs": [],
   "source": [
    "shares = 3\n",
    "trade_type = 'trail'\n",
    "coin_price = 3\n",
    "user_id = 3\n",
    "crypto_id = 3\n",
    "final_amount = 9\n",
    "tax = 1.5\n",
    "\n",
    "u = user()\n",
    "u.tn = 'Transaction_History'\n",
    "u.fields = []\n",
    "u.getFields()\n",
    "print(u.fields)\n",
    "print(u.pk)\n",
    "u.createBlank()\n",
    "u.data\n",
    "u.data[0] = dict(zip(u.fields,[ trade_type,shares, coin_price, datetime.datetime.now().strftime(\"%Y-%m-%d %H:%M:%S\"), user_id, crypto_id,final_amount,tax]))\n",
    "u.insert()"
   ]
  },
  {
   "cell_type": "code",
   "execution_count": null,
   "metadata": {},
   "outputs": [
    {
     "data": {
      "text/plain": [
       "[]"
      ]
     },
     "execution_count": 6,
     "metadata": {},
     "output_type": "execute_result"
    }
   ],
   "source": [
    "\n",
    "# Coin Details Route\n",
    "@app.route('/details/<coin_id>')\n",
    "def coin_details(coin_id):\n",
    "    u = user()\n",
    "    u.cur.execute(\"SELECT * FROM `Crypto_coins` WHERE coin_symbol = %s\", (coin_id,))\n",
    "    coin = u.cur.fetchone()\n",
    "\n",
    "    if not coin:\n",
    "        return render_template('details.html', message=\"Coin not found\"), 404\n",
    "    \n",
    "    # Fetch candlestick data using yfinance\n",
    "    try:\n",
    "        ticker = yf.Ticker(f\"{coin['coin_symbol'].upper()}-USD\")\n",
    "        data = ticker.history(period=\"1y\")\n",
    "\n",
    "        if data.empty:\n",
    "            graph_html = \"<p>No historical data available for this coin.</p>\"\n",
    "        else:\n",
    "            # Generate candlestick chart\n",
    "            fig = go.Figure(data=[go.Candlestick(\n",
    "                    x=data.index,\n",
    "                    open=data['Open'],\n",
    "                    high=data['High'],\n",
    "                    low=data['Low'],\n",
    "                    close=data['Close']\n",
    "            )])\n",
    "            # Add SMA\n",
    "            data['20_SMA'] = data['Close'].rolling(window=20).mean()\n",
    "            data['50_SMA'] = data['Close'].rolling(window=50).mean()\n",
    "            fig.add_trace(go.Scatter(x=data.index, y=data['20_SMA'], mode='lines', name='20 SMA'))\n",
    "            fig.add_trace(go.Scatter(x=data.index, y=data['50_SMA'], mode='lines', name='50 SMA'))\n",
    "\n",
    "            fig.update_layout(\n",
    "                    title=f\"<b>{coin['coin_name']} Candlestick Chart</b>\",\n",
    "                    yaxis_title=\"Price (USD)\",\n",
    "                    xaxis_title=\"Date\",\n",
    "                    autosize=True,\n",
    "                    margin=dict(l=20, r=20, t=40, b=20),\n",
    "                    width=800\n",
    "                )\n",
    "            graph_html = fig.to_html(full_html=False)\n",
    "\n",
    "    except Exception as e:\n",
    "        graph_html = f\"<p>Error generating chart: {e}</p>\"\n",
    "\n",
    "    return render_template('details.html', graph_html=graph_html, coin=coin, navigation_items=True)\n"
   ]
  },
  {
   "cell_type": "code",
   "execution_count": null,
   "metadata": {},
   "outputs": [],
   "source": [
    "from user_ckn import user,baseObject\n",
    "'''\n",
    "u = user()\n",
    "u.tryLogin('srikanth','123456')\n",
    "u.data[0]\n",
    "user_id = u.data[0]['user_id']\n",
    "wallet_balance = u.data[0]['wallet_balance']\n",
    "sql = \"\"\"\n",
    "            SELECT c.cryptocoin_id, c.coin_symbol, c.coin_name, c.current_price, \n",
    "                IFNULL(a.quantity, 0) AS shares_owned\n",
    "            FROM Crypto_coins c\n",
    "            LEFT JOIN User_Assets a ON c.cryptocoin_id = a.crypto_id AND a.user_id = %s\n",
    "        \"\"\"\n",
    "u.cur.execute(sql,user_id)\n",
    "coins = u.cur.fetchall()\n",
    "\n",
    "\n",
    "coin_symbol = 'BTC'\n",
    "u.tn = 'Crypto_coins'\n",
    "u.getByField('coin_symbol',coin_symbol)\n",
    "coin = u.data[0]\n",
    "u.cur.execute(\"UPDATE User_data SET wallet_balance = %s WHERE user_id = %s\",\n",
    "                    (wallet_balance, user_id))\n",
    "u.tn = 'User_data'\n",
    "u.getById(user_id)\n",
    "u.data[0]['wallet_balance'] = 150\n",
    "\n",
    "u.tn = 'User_Assets'\n",
    "u.fields = []\n",
    "u.getFields()\n",
    "print(u.fields)\n",
    "print(u.pk)\n",
    "u.getByField('user_id',user_id)\n",
    "print(u.data[0])\n",
    "u.data[0]['quantity'] = 23\n",
    "u.data[0]['acquisition_date'] = datetime.datetime.now().strftime(\"%Y-%m-%d %H:%M:%S\")\n",
    "u.data[0]['crypto_id'] = 21\n",
    "u.insert()'''\n",
    "\n",
    "\n",
    "u = user()\n",
    "u.tn = 'User_Assets'\n",
    "u.getByField('user_id',1)\n",
    "quantity = 0\n",
    "if len(u.data)>0:\n",
    "    quantity = sum(row['quantity'] for row in u.data if row['crypto_id'] == 11)\n",
    "quantity\n",
    "u.data.clear()\n",
    "\n",
    "u.tn = 'User_Assets'\n",
    "u.fields = []\n",
    "u.getFields()\n",
    "print(u.fields)\n",
    "print(u.pk)\n",
    "u.createBlank()\n",
    "print(u.data)\n",
    "u.data[0] = dict(zip(u.fields,[25,datetime.datetime.now().strftime(\"%Y-%m-%d %H:%M:%S\"),25,25]))\n",
    "u.insert()"
   ]
  },
  {
   "cell_type": "code",
   "execution_count": null,
   "metadata": {},
   "outputs": [],
   "source": [
    "u.data.clear()\n",
    "u.tn = 'Transaction_History'\n",
    "u.fields = []\n",
    "u.getFields()\n",
    "print(u.fields)\n",
    "print(u.pk)\n",
    "u.createBlank()\n",
    "u.data\n",
    "u.data[0] = dict(zip(u.fields,[trade_type,shares, coin_price, datetime.datetime.now().strftime(\"%Y-%m-%d %H:%M:%S\"),user_id,crypto_id,final_amount,tax]))\n",
    "u.insert()\n",
    "u.data.clear()"
   ]
  },
  {
   "cell_type": "code",
   "execution_count": null,
   "metadata": {},
   "outputs": [],
   "source": [
    "shares = 3\n",
    "trade_type = 'trail'\n",
    "coin_price = 3\n",
    "user_id = 3\n",
    "crypto_id = 3\n",
    "final_amount = 9\n",
    "tax = 1.5\n",
    "\n",
    "\n",
    "u = user()\n",
    "u.tn = 'Transaction_History'\n",
    "u.fields = []\n",
    "u.getFields()\n",
    "print(u.fields)\n",
    "print(u.pk)\n",
    "u.createBlank()\n",
    "u.data\n",
    "u.data[0] = dict(zip(u.fields,[ trade_type,shares,   coin_price, datetime.datetime.now().strftime(\"%Y-%m-%d %H:%M:%S\"), user_id, crypto_id,final_amount,tax]))\n",
    "u.insert()"
   ]
  },
  {
   "cell_type": "code",
   "execution_count": null,
   "metadata": {},
   "outputs": [],
   "source": [
    "u = user()\n",
    "\n",
    "u.tn = 'Transaction_History'\n",
    "u.fields = []\n",
    "u.getFields()\n",
    "print(u.fields)\n",
    "print(u.pk)\n",
    "print(u.createBlank())\n",
    "\n",
    "'''u.data[0]['transaction_type'] = 'buy' #trade_type\n",
    "u.data[0]['quantity'] = 2.3 #shares\n",
    "u.data[0]['price_at_transaction'] = 45.6 #coin_price\n",
    "u.data[0]['transaction_timestamp'] = datetime.datetime.now().strftime(\"%Y-%m-%d %H:%M:%S\")\n",
    "u.data[0]['user_id'] = 64 #user_id\n",
    "u.data[0]['crypto_id'] = 23 #crypto_id\n",
    "u.data[0]['tax'] = 3 #tax\n",
    "u.data[0]['total_amount'] = round(((2.3*45.6) +  3),2 ) #final_amount\n",
    "'''\n",
    "u.data[0] = dict(zip(u.data[0].keys(),['buy',2,2.3,datetime.datetime.now().strftime(\"%Y-%m-%d %H:%M:%S\"),34,34,34,34]))\n",
    "u.insert()\n"
   ]
  },
  {
   "cell_type": "code",
   "execution_count": null,
   "metadata": {},
   "outputs": [],
   "source": [
    "#profile\n",
    "user_id = 3\n",
    "u= user()\n",
    "u.getById(user_id) \n",
    "u_details = u.data[0]\n",
    "u_details['username'] = u_details['username'].upper()\n",
    "u_details['created_at'] = u_details['created_at'].strftime(\"%B %d, %Y\") \n",
    "u_details"
   ]
  },
  {
   "cell_type": "code",
   "execution_count": null,
   "metadata": {},
   "outputs": [],
   "source": [
    "# transactions\n",
    "user_id = 3\n",
    "u= user()\n",
    "sql = '''SELECT cc.image_url,cc.coin_name,th.transaction_type,th.quantity,th.total_amount,th.transaction_timestamp\n",
    "FROM `Transaction_History` th, Crypto_coins cc WHERE th.crypto_id = cc.cryptocoin_id AND th.user_id =%s ORDER BY `th`.`transaction_timestamp` DESC'''\n",
    "u.cur.execute(sql,user_id)\n",
    "th = u.cur.fetchall()"
   ]
  },
  {
   "cell_type": "code",
   "execution_count": 15,
   "metadata": {},
   "outputs": [],
   "source": [
    "#wallet\n",
    "\n",
    "user_id= 4\n",
    "u = user()\n",
    "u.getById(user_id)\n",
    "u.data[0]['wallet_balance'] = 1075\n",
    "u.update()"
   ]
  },
  {
   "cell_type": "code",
   "execution_count": null,
   "metadata": {},
   "outputs": [],
   "source": []
  }
 ],
 "metadata": {
  "kernelspec": {
   "display_name": "Python 3",
   "language": "python",
   "name": "python3"
  },
  "language_info": {
   "codemirror_mode": {
    "name": "ipython",
    "version": 3
   },
   "file_extension": ".py",
   "mimetype": "text/x-python",
   "name": "python",
   "nbconvert_exporter": "python",
   "pygments_lexer": "ipython3",
   "version": "3.11.6"
  }
 },
 "nbformat": 4,
 "nbformat_minor": 2
}
